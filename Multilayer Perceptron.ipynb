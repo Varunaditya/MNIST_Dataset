{
 "cells": [
  {
   "cell_type": "markdown",
   "metadata": {},
   "source": [
    "#### This example uses Tensorflow to build a multilayer perceptron which has two fully connected hidden layers"
   ]
  },
  {
   "cell_type": "markdown",
   "metadata": {},
   "source": [
    "##### Author: Varunaditya Jadwal"
   ]
  },
  {
   "cell_type": "markdown",
   "metadata": {},
   "source": [
    " "
   ]
  },
  {
   "cell_type": "code",
   "execution_count": 128,
   "metadata": {
    "collapsed": false
   },
   "outputs": [],
   "source": [
    "import tensorflow as tf\n",
    "import numpy as np\n",
    "import matplotlib.pyplot as plt\n",
    "%matplotlib inline\n",
    "# downloading the MNIST dataset\n",
    "from tensorflow.examples.tutorials.mnist import input_data"
   ]
  },
  {
   "cell_type": "code",
   "execution_count": 92,
   "metadata": {
    "collapsed": false
   },
   "outputs": [
    {
     "name": "stdout",
     "output_type": "stream",
     "text": [
      "Extracting ../MNISTdataset/train-images-idx3-ubyte.gz\n",
      "Extracting ../MNISTdataset/train-labels-idx1-ubyte.gz\n",
      "Extracting ../MNISTdataset/t10k-images-idx3-ubyte.gz\n",
      "Extracting ../MNISTdataset/t10k-labels-idx1-ubyte.gz\n"
     ]
    }
   ],
   "source": [
    "mnist = input_data.read_data_sets('../MNISTdataset', one_hot = False)"
   ]
  },
  {
   "cell_type": "code",
   "execution_count": 93,
   "metadata": {
    "collapsed": false
   },
   "outputs": [],
   "source": [
    "learningRate = 0.1\n",
    "numSteps = 1000\n",
    "batchSize = 128\n",
    "displayStep = 100\n",
    "neuronsHiddenLayer1 = 256\n",
    "neuronsHiddenLayer2 = 256\n",
    "neuronsHiddenLayer3 = 256\n",
    "inputSize = 784\n",
    "numberOfClasses = 10"
   ]
  },
  {
   "cell_type": "code",
   "execution_count": 94,
   "metadata": {
    "collapsed": true
   },
   "outputs": [],
   "source": [
    "def neuralNetwork(data):\n",
    "    inputLayer = data['images']\n",
    "    layer1 = tf.layers.dense(inputLayer, neuronsHiddenLayer1)\n",
    "    layer2 = tf.layers.dense(layer1, neuronsHiddenLayer2)\n",
    "    layer3 = tf.layers.dense(layer2, neuronsHiddenLayer3)\n",
    "    outputLayer = tf.layers.dense(layer3, numberOfClasses)\n",
    "    return outputLayer"
   ]
  },
  {
   "cell_type": "code",
   "execution_count": 95,
   "metadata": {
    "collapsed": false
   },
   "outputs": [],
   "source": [
    "def modelFunction(features, labels, mode):\n",
    "    logits = neuralNetwork(features)\n",
    "    predClasses = tf.argmax(logits, axis = 1)\n",
    "    predProbs = tf.nn.softmax(logits)\n",
    "    if mode == tf.estimator.ModeKeys.PREDICT:\n",
    "        return tf.estimator.EstimatorSpec(mode, predictions = predClasses)\n",
    "    lossTrack = tf.reduce_mean(tf.nn.sparse_softmax_cross_entropy_with_logits(logits = logits,\n",
    "                                                                             labels = tf.cast(labels, dtype = tf.int32)))\n",
    "    optimizer = tf.train.GradientDescentOptimizer(learning_rate = learningRate)\n",
    "    trainOptimize = optimizer. minimize(lossTrack, global_step = tf.train.get_global_step())\n",
    "    accuracy = tf.metrics.accuracy(labels = labels, predictions = predClasses)\n",
    "    estimatorSpecs = tf.estimator.EstimatorSpec(mode=mode,\n",
    "                                             predictions = predClasses,\n",
    "                                             loss = lossTrack,\n",
    "                                             train_op = trainOptimize,\n",
    "                                             eval_metric_ops = {'accuracy': accuracy})\n",
    "    return estimatorSpecs"
   ]
  },
  {
   "cell_type": "code",
   "execution_count": 96,
   "metadata": {
    "collapsed": false
   },
   "outputs": [
    {
     "name": "stdout",
     "output_type": "stream",
     "text": [
      "INFO:tensorflow:Using default config.\n",
      "WARNING:tensorflow:Using temporary folder as model directory: /tmp/tmpnf17lm_t\n",
      "INFO:tensorflow:Using config: {'_master': '', '_service': None, '_is_chief': True, '_keep_checkpoint_every_n_hours': 10000, '_save_checkpoints_secs': 600, '_save_checkpoints_steps': None, '_num_worker_replicas': 1, '_save_summary_steps': 100, '_num_ps_replicas': 0, '_model_dir': '/tmp/tmpnf17lm_t', '_train_distribute': None, '_task_id': 0, '_log_step_count_steps': 100, '_evaluation_master': '', '_keep_checkpoint_max': 5, '_task_type': 'worker', '_session_config': None, '_cluster_spec': <tensorflow.python.training.server_lib.ClusterSpec object at 0x7f9427774828>, '_global_id_in_cluster': 0, '_tf_random_seed': None}\n"
     ]
    }
   ],
   "source": [
    "model = tf.estimator.Estimator(modelFunction)"
   ]
  },
  {
   "cell_type": "code",
   "execution_count": 97,
   "metadata": {
    "collapsed": false
   },
   "outputs": [],
   "source": [
    "inputFunction = tf.estimator.inputs.numpy_input_fn(x = {'images' : mnist.train.images}, y = mnist.train.labels,\n",
    "                                                  batch_size = batchSize, num_epochs = 1000,shuffle = True)"
   ]
  },
  {
   "cell_type": "code",
   "execution_count": 106,
   "metadata": {
    "collapsed": false
   },
   "outputs": [
    {
     "name": "stdout",
     "output_type": "stream",
     "text": [
      "INFO:tensorflow:Calling model_fn.\n",
      "INFO:tensorflow:Done calling model_fn.\n",
      "INFO:tensorflow:Create CheckpointSaverHook.\n",
      "INFO:tensorflow:Graph was finalized.\n",
      "INFO:tensorflow:Restoring parameters from /tmp/tmpnf17lm_t/model.ckpt-2000\n",
      "INFO:tensorflow:Running local_init_op.\n",
      "INFO:tensorflow:Done running local_init_op.\n",
      "INFO:tensorflow:Saving checkpoints for 2001 into /tmp/tmpnf17lm_t/model.ckpt.\n",
      "INFO:tensorflow:step = 2001, loss = 0.24051583\n",
      "INFO:tensorflow:global_step/sec: 172.94\n",
      "INFO:tensorflow:step = 2101, loss = 0.32152003 (0.579 sec)\n",
      "INFO:tensorflow:global_step/sec: 199.732\n",
      "INFO:tensorflow:step = 2201, loss = 0.18570052 (0.501 sec)\n",
      "INFO:tensorflow:global_step/sec: 179.22\n",
      "INFO:tensorflow:step = 2301, loss = 0.1571314 (0.558 sec)\n",
      "INFO:tensorflow:global_step/sec: 192.835\n",
      "INFO:tensorflow:step = 2401, loss = 0.45436046 (0.518 sec)\n",
      "INFO:tensorflow:global_step/sec: 195.963\n",
      "INFO:tensorflow:step = 2501, loss = 0.22117093 (0.510 sec)\n",
      "INFO:tensorflow:global_step/sec: 199.162\n",
      "INFO:tensorflow:step = 2601, loss = 0.29011837 (0.502 sec)\n",
      "INFO:tensorflow:global_step/sec: 196.048\n",
      "INFO:tensorflow:step = 2701, loss = 0.27731767 (0.510 sec)\n",
      "INFO:tensorflow:global_step/sec: 194.113\n",
      "INFO:tensorflow:step = 2801, loss = 0.27215156 (0.515 sec)\n",
      "INFO:tensorflow:global_step/sec: 198.171\n",
      "INFO:tensorflow:step = 2901, loss = 0.3213722 (0.505 sec)\n",
      "INFO:tensorflow:global_step/sec: 169.55\n",
      "INFO:tensorflow:step = 3001, loss = 0.1935474 (0.590 sec)\n",
      "INFO:tensorflow:global_step/sec: 163.588\n",
      "INFO:tensorflow:step = 3101, loss = 0.37181586 (0.611 sec)\n",
      "INFO:tensorflow:global_step/sec: 158.84\n",
      "INFO:tensorflow:step = 3201, loss = 0.21664196 (0.630 sec)\n",
      "INFO:tensorflow:global_step/sec: 163.478\n",
      "INFO:tensorflow:step = 3301, loss = 0.2802645 (0.611 sec)\n",
      "INFO:tensorflow:global_step/sec: 166.311\n",
      "INFO:tensorflow:step = 3401, loss = 0.14399613 (0.601 sec)\n",
      "INFO:tensorflow:Saving checkpoints for 3500 into /tmp/tmpnf17lm_t/model.ckpt.\n",
      "INFO:tensorflow:Loss for final step: 0.39682746.\n"
     ]
    },
    {
     "data": {
      "text/plain": [
       "<tensorflow.python.estimator.estimator.Estimator at 0x7f9427774518>"
      ]
     },
     "execution_count": 106,
     "metadata": {},
     "output_type": "execute_result"
    }
   ],
   "source": [
    "model.train(input_fn = inputFunction, steps = 1500)"
   ]
  },
  {
   "cell_type": "code",
   "execution_count": 103,
   "metadata": {
    "collapsed": true
   },
   "outputs": [],
   "source": [
    "evalFunction = tf.estimator.inputs.numpy_input_fn(x = {'images' : mnist.test.images}, y = mnist.test.labels,\n",
    "                                                  batch_size = batchSize, shuffle = False)"
   ]
  },
  {
   "cell_type": "code",
   "execution_count": 107,
   "metadata": {
    "collapsed": false
   },
   "outputs": [
    {
     "name": "stdout",
     "output_type": "stream",
     "text": [
      "INFO:tensorflow:Calling model_fn.\n",
      "INFO:tensorflow:Done calling model_fn.\n",
      "INFO:tensorflow:Starting evaluation at 2018-06-01-16:58:16\n",
      "INFO:tensorflow:Graph was finalized.\n",
      "INFO:tensorflow:Restoring parameters from /tmp/tmpnf17lm_t/model.ckpt-3500\n",
      "INFO:tensorflow:Running local_init_op.\n",
      "INFO:tensorflow:Done running local_init_op.\n",
      "INFO:tensorflow:Finished evaluation at 2018-06-01-16:58:16\n",
      "INFO:tensorflow:Saving dict for global step 3500: accuracy = 0.9186, global_step = 3500, loss = 0.2929571\n"
     ]
    }
   ],
   "source": [
    "metrics = model.evaluate(evalFunction)"
   ]
  },
  {
   "cell_type": "code",
   "execution_count": 108,
   "metadata": {
    "collapsed": false
   },
   "outputs": [
    {
     "data": {
      "text/plain": [
       "0.9186"
      ]
     },
     "execution_count": 108,
     "metadata": {},
     "output_type": "execute_result"
    }
   ],
   "source": [
    "metrics['accuracy']"
   ]
  },
  {
   "cell_type": "code",
   "execution_count": 112,
   "metadata": {
    "collapsed": false
   },
   "outputs": [
    {
     "name": "stdout",
     "output_type": "stream",
     "text": [
      "INFO:tensorflow:Calling model_fn.\n",
      "INFO:tensorflow:Done calling model_fn.\n",
      "INFO:tensorflow:Graph was finalized.\n",
      "INFO:tensorflow:Restoring parameters from /tmp/tmpnf17lm_t/model.ckpt-3500\n",
      "INFO:tensorflow:Running local_init_op.\n",
      "INFO:tensorflow:Done running local_init_op.\n"
     ]
    }
   ],
   "source": [
    "testImages = mnist.test.images[:5]\n",
    "predictFunction = tf.estimator.inputs.numpy_input_fn(x = {'images' : testImages}, shuffle = False)\n",
    "predictions = list(model.predict(input_fn = predictFunction))"
   ]
  },
  {
   "cell_type": "code",
   "execution_count": 131,
   "metadata": {
    "collapsed": false
   },
   "outputs": [
    {
     "data": {
      "image/png": "[encoded data removed]",
      "text/plain": [
       "<matplotlib.figure.Figure at 0x7f9427725e48>"
      ]
     },
     "metadata": {},
     "output_type": "display_data"
    },
    {
     "name": "stdout",
     "output_type": "stream",
     "text": [
      "7\n"
     ]
    },
    {
     "data": {
      "image/png": "[encoded data removed]",
      "text/plain": [
       "<matplotlib.figure.Figure at 0x7f94249ec438>"
      ]
     },
     "metadata": {},
     "output_type": "display_data"
    },
    {
     "name": "stdout",
     "output_type": "stream",
     "text": [
      "2\n"
     ]
    },
    {
     "data": {
      "image/png": "[encoded data removed]",
      "text/plain": [
       "<matplotlib.figure.Figure at 0x7f94264f1ef0>"
      ]
     },
     "metadata": {},
     "output_type": "display_data"
    },
    {
     "name": "stdout",
     "output_type": "stream",
     "text": [
      "1\n"
     ]
    },
    {
     "data": {
      "image/png": "[encoded data removed]",
      "text/plain": [
       "<matplotlib.figure.Figure at 0x7f9415d6def0>"
      ]
     },
     "metadata": {},
     "output_type": "display_data"
    },
    {
     "name": "stdout",
     "output_type": "stream",
     "text": [
      "0\n"
     ]
    },
    {
     "data": {
      "image/png": "[encoded data removed]",
      "text/plain": [
       "<matplotlib.figure.Figure at 0x7f94252af4a8>"
      ]
     },
     "metadata": {},
     "output_type": "display_data"
    },
    {
     "name": "stdout",
     "output_type": "stream",
     "text": [
      "4\n"
     ]
    }
   ],
   "source": [
    "for i in range(5):\n",
    "    plt.imshow(np.reshape(testImages[i], [28,28]), cmap = 'gray')\n",
    "    plt.show()\n",
    "    print(predictions[i])"
   ]
  }
 ],
 "metadata": {
  "anaconda-cloud": {},
  "kernelspec": {
   "display_name": "Python [conda env:anaconda3]",
   "language": "python",
   "name": "conda-env-anaconda3-py"
  },
  "language_info": {
   "codemirror_mode": {
    "name": "ipython",
    "version": 3
   },
   "file_extension": ".py",
   "mimetype": "text/x-python",
   "name": "python",
   "nbconvert_exporter": "python",
   "pygments_lexer": "ipython3",
   "version": "3.5.2"
  }
 },
 "nbformat": 4,
 "nbformat_minor": 1
}
